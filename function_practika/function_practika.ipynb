{
 "cells": [
  {
   "cell_type": "markdown",
   "metadata": {},
   "source": [
    "Вы работаете секретарем и вам постоянно приходят различные документы. Вы должны быть очень внимательны, чтобы не потерять ни один документ. Каталог документов хранится в следующем виде:"
   ]
  },
  {
   "cell_type": "code",
   "execution_count": 43,
   "metadata": {},
   "outputs": [],
   "source": [
    "documents = [\n",
    "    {'type': 'passport', 'number': '2207 876234', 'name': 'Василий Гупкин'},\n",
    "    {'type': 'invoice', 'number': '11-2', 'name': 'Геннадий Покемонов'},\n",
    "    {'type': 'insurance', 'number': '10006', 'name': 'Аристарх Павлов'}\n",
    "]"
   ]
  },
  {
   "cell_type": "code",
   "execution_count": 34,
   "metadata": {},
   "outputs": [],
   "source": [
    "def print_documents(documents):\n",
    "    for doc in documents:\n",
    "        print(doc)"
   ]
  },
  {
   "cell_type": "markdown",
   "metadata": {},
   "source": [
    "Перечень полок, на которых находятся документы хранится в следующем виде:"
   ]
  },
  {
   "cell_type": "code",
   "execution_count": 35,
   "metadata": {},
   "outputs": [],
   "source": [
    "directories = {\n",
    "    '1': ['2207 876234', '11-2'],\n",
    "    '2': ['10006'],\n",
    "    '3': []\n",
    "}"
   ]
  },
  {
   "cell_type": "code",
   "execution_count": 1,
   "metadata": {},
   "outputs": [],
   "source": [
    "def print_directories(directories):\n",
    "    for key,value in directories.items():\n",
    "        print(key,value)"
   ]
  },
  {
   "cell_type": "markdown",
   "metadata": {},
   "source": [
    "Необходимо реализовать пользовательские команды (внимание! это не название функций, которые должны быть выразительными, а команды, которые вводит пользователь, чтобы получить необходимый результат):\n",
    "\n",
    "* p – people – команда, которая спросит номер документа и выведет имя человека, которому он принадлежит;\n",
    "* s – shelf – команда, которая спросит номер документа и выведет номер полки, на которой он находится\n",
    "Правильно обработайте ситуации, когда пользователь будет вводить несуществующий документ.\n",
    "* l – list – команда, которая выведет список всех документов в формате\n",
    "**passport \"2207 876234\" \"Василий Гупкин\"**\n",
    "* as – add shelf – команда, которая спросит номер новой полки и добавит ее в перечень. Предусмотрите случай, когда пользователь добавляет полку, которая уже существует.\n",
    "* d – delete – команда, которая спросит номер документа и удалит его из каталога и из перечня полок. Предусмотрите сценарий, когда пользователь вводит несуществующий документ;\n",
    "* m – move – команда, которая спросит номер документа и целевую полку и переместит его с текущей полки на целевую. Корректно обработайте кейсы, когда пользователь пытается переместить несуществующий документ или переместить документ на несуществующую полку;\n",
    "*  add – команда, которая добавит новый документ в каталог и в перечень полок, спросив его номер, тип, имя владельца и номер полки, на котором он будет храниться. Корректно обработайте ситуацию, когда пользователь будет пытаться добавить документ на несуществующую полку."
   ]
  },
  {
   "cell_type": "code",
   "execution_count": 20,
   "metadata": {},
   "outputs": [
    {
     "name": "stdout",
     "output_type": "stream",
     "text": [
      "Введите команду (p,s,l,as,d,m,add,q - выход)as\n",
      "Введите номер новой полки: 5\n",
      "Введите команду (p,s,l,as,d,m,add,q - выход)as\n",
      "Введите номер новой полки: 5\n",
      "Такая полка уже существует.\n",
      "Введите команду (p,s,l,as,d,m,add,q - выход)q\n",
      "1 ['2207 876234', '11-2']\n",
      "2 ['10006']\n",
      "3 []\n",
      "5 []\n",
      "{'type': 'passport', 'number': '2207 876234', 'name': 'Василий Гупкин'}\n",
      "{'type': 'invoice', 'number': '11-2', 'name': 'Геннадий Покемонов'}\n",
      "{'type': 'insurance', 'number': '10006', 'name': 'Аристарх Павлов'}\n"
     ]
    }
   ],
   "source": [
    "documents = [\n",
    "    {'type': 'passport', 'number': '2207 876234', 'name': 'Василий Гупкин'},\n",
    "    {'type': 'invoice', 'number': '11-2', 'name': 'Геннадий Покемонов'},\n",
    "    {'type': 'insurance', 'number': '10006', 'name': 'Аристарх Павлов'}\n",
    "]\n",
    "directories = {\n",
    "    '1': ['2207 876234', '11-2'],\n",
    "    '2': ['10006'],\n",
    "    '3': []\n",
    "}\n",
    "def print_documents(documents):\n",
    "    for doc in documents:\n",
    "        print(doc)\n",
    "def print_directories(directories):\n",
    "    for key,value in directories.items():\n",
    "        print(key,value)\n",
    "        \n",
    "def print_name_by_num(documents):\n",
    "    num = input('Введите номер документа:')\n",
    "    a = list(filter(lambda x: x['number']==num,documents))\n",
    "    if bool(a)==True:\n",
    "        print (a[0]['name'])\n",
    "    else:\n",
    "        print('Документа с таким номером нет.')\n",
    "        \n",
    "def shelf_search(directories):\n",
    "    num = '\"'+input('Введите номер документа для поиска: ')+'\"'\n",
    "    print(list(directories.keys())[list(directories.values()).index(num)])\n",
    "    # тут не получислось\n",
    "\n",
    "def print_doc(documents):\n",
    "    for i in documents:\n",
    "        print(i['type'],'\"',i['number'],'\"','\"',i['name'],'\"')\n",
    "\n",
    "def add_shelf(directories):\n",
    "    num = input(\"Введите номер новой полки: \")\n",
    "    if num in directories:\n",
    "        print(\"Такая полка уже существует.\")\n",
    "    else:\n",
    "        directories[num]=[]\n",
    "\n",
    "def delete_doc(documents,directories):\n",
    "    num = input(\"Введите номер документа, который нужно удалить: \")\n",
    "        \n",
    "def main():\n",
    "    while True:\n",
    "        user_input = input('Введите команду (p,s,l,as,d,m,add,q - выход)')\n",
    "        if user_input == 'p':\n",
    "            print_name_by_num(documents)\n",
    "        elif user_input == 's':\n",
    "            shelf_search(directories)\n",
    "        elif user_input == 'l':\n",
    "            print_doc(documents)\n",
    "        elif user_input == 'as':\n",
    "            add_shelf(directories)\n",
    "        elif user_input == 'd': \n",
    "            delete_doc(documents,directories)\n",
    "        elif user_input == 'm':\n",
    "            i = 0\n",
    "        elif user_input == 'add':\n",
    "            i = 0\n",
    "        elif user_input == 'q':\n",
    "            break        \n",
    "main()\n",
    "print_directories(directories)\n",
    "print_documents(documents)"
   ]
  },
  {
   "cell_type": "code",
   "execution_count": null,
   "metadata": {},
   "outputs": [],
   "source": []
  }
 ],
 "metadata": {
  "kernelspec": {
   "display_name": "Python 3",
   "language": "python",
   "name": "python3"
  },
  "language_info": {
   "codemirror_mode": {
    "name": "ipython",
    "version": 3
   },
   "file_extension": ".py",
   "mimetype": "text/x-python",
   "name": "python",
   "nbconvert_exporter": "python",
   "pygments_lexer": "ipython3",
   "version": "3.8.3"
  }
 },
 "nbformat": 4,
 "nbformat_minor": 4
}
